{
 "cells": [
  {
   "cell_type": "markdown",
   "metadata": {},
   "source": [
    "### Homework Assignment #5\n",
    "**Due March 2** <br>\n",
    "\n",
    "In this assignment you will be working on mortality.csv dataset. After you import the\n",
    "necessary libraries and read the dataset into a DataFrame object, perform the following:\n",
    "- Display the first 10 records.\n",
    "- Display the number of rows and columns.\n",
    "- Using slicing, display the records indexed 50 through 61.\n",
    "- Display all the column names.\n",
    "- Display the summary stats for the DataFrame object.\n",
    "- Create a Series object from one of the columns of the DataFrame object and display.\n",
    "- Using slicing display the rows with labels 0 through 10 for columns 1 and 2 only.\n",
    "- What is the average, minimum and maximum death rate?\n",
    "- Create a line plot that shows the total death rates by year. Have the year on x-axis and\n",
    "total death rates on y-axis. You need to calculate the total deaths for each year across\n",
    "four different age groups first."
   ]
  },
  {
   "cell_type": "code",
   "execution_count": null,
   "metadata": {},
   "outputs": [
    {
     "name": "stdout",
     "output_type": "stream",
     "text": [
      "   Year  Age Group  Death Rate\n",
      "0  1900  1-4 Years      1983.8\n",
      "1  1901  1-4 Years      1695.0\n",
      "2  1902  1-4 Years      1655.7\n",
      "3  1903  1-4 Years      1542.1\n",
      "4  1904  1-4 Years      1591.5\n",
      "5  1905  1-4 Years      1498.9\n",
      "6  1906  1-4 Years      1580.0\n",
      "7  1907  1-4 Years      1468.3\n",
      "8  1908  1-4 Years      1396.8\n",
      "9  1909  1-4 Years      1348.9\n"
     ]
    }
   ],
   "source": [
    "#Display first 10 records of mortality.csv\n",
    "import pandas as pd\n",
    "import matplotlib.pyplot as plt\n",
    "\n",
    "df = pd.read_csv('mortality.csv')\n",
    "\n",
    "print(df.head(10))"
   ]
  },
  {
   "cell_type": "code",
   "execution_count": 3,
   "metadata": {},
   "outputs": [
    {
     "data": {
      "text/plain": [
       "(476, 3)"
      ]
     },
     "execution_count": 3,
     "metadata": {},
     "output_type": "execute_result"
    }
   ],
   "source": [
    "#Display number of rows and columns\n",
    "df.shape"
   ]
  },
  {
   "cell_type": "code",
   "execution_count": 4,
   "metadata": {},
   "outputs": [
    {
     "data": {
      "text/html": [
       "<div>\n",
       "<style scoped>\n",
       "    .dataframe tbody tr th:only-of-type {\n",
       "        vertical-align: middle;\n",
       "    }\n",
       "\n",
       "    .dataframe tbody tr th {\n",
       "        vertical-align: top;\n",
       "    }\n",
       "\n",
       "    .dataframe thead th {\n",
       "        text-align: right;\n",
       "    }\n",
       "</style>\n",
       "<table border=\"1\" class=\"dataframe\">\n",
       "  <thead>\n",
       "    <tr style=\"text-align: right;\">\n",
       "      <th></th>\n",
       "      <th>Year</th>\n",
       "      <th>Age Group</th>\n",
       "      <th>Death Rate</th>\n",
       "    </tr>\n",
       "  </thead>\n",
       "  <tbody>\n",
       "    <tr>\n",
       "      <th>50</th>\n",
       "      <td>1950</td>\n",
       "      <td>1-4 Years</td>\n",
       "      <td>139.4</td>\n",
       "    </tr>\n",
       "    <tr>\n",
       "      <th>51</th>\n",
       "      <td>1951</td>\n",
       "      <td>1-4 Years</td>\n",
       "      <td>136.9</td>\n",
       "    </tr>\n",
       "    <tr>\n",
       "      <th>52</th>\n",
       "      <td>1952</td>\n",
       "      <td>1-4 Years</td>\n",
       "      <td>141.1</td>\n",
       "    </tr>\n",
       "    <tr>\n",
       "      <th>53</th>\n",
       "      <td>1953</td>\n",
       "      <td>1-4 Years</td>\n",
       "      <td>130.0</td>\n",
       "    </tr>\n",
       "    <tr>\n",
       "      <th>54</th>\n",
       "      <td>1954</td>\n",
       "      <td>1-4 Years</td>\n",
       "      <td>118.3</td>\n",
       "    </tr>\n",
       "    <tr>\n",
       "      <th>55</th>\n",
       "      <td>1955</td>\n",
       "      <td>1-4 Years</td>\n",
       "      <td>113.4</td>\n",
       "    </tr>\n",
       "    <tr>\n",
       "      <th>56</th>\n",
       "      <td>1956</td>\n",
       "      <td>1-4 Years</td>\n",
       "      <td>110.2</td>\n",
       "    </tr>\n",
       "    <tr>\n",
       "      <th>57</th>\n",
       "      <td>1957</td>\n",
       "      <td>1-4 Years</td>\n",
       "      <td>111.8</td>\n",
       "    </tr>\n",
       "    <tr>\n",
       "      <th>58</th>\n",
       "      <td>1958</td>\n",
       "      <td>1-4 Years</td>\n",
       "      <td>111.7</td>\n",
       "    </tr>\n",
       "    <tr>\n",
       "      <th>59</th>\n",
       "      <td>1959</td>\n",
       "      <td>1-4 Years</td>\n",
       "      <td>106.9</td>\n",
       "    </tr>\n",
       "    <tr>\n",
       "      <th>60</th>\n",
       "      <td>1960</td>\n",
       "      <td>1-4 Years</td>\n",
       "      <td>109.1</td>\n",
       "    </tr>\n",
       "    <tr>\n",
       "      <th>61</th>\n",
       "      <td>1961</td>\n",
       "      <td>1-4 Years</td>\n",
       "      <td>101.7</td>\n",
       "    </tr>\n",
       "  </tbody>\n",
       "</table>\n",
       "</div>"
      ],
      "text/plain": [
       "    Year  Age Group  Death Rate\n",
       "50  1950  1-4 Years       139.4\n",
       "51  1951  1-4 Years       136.9\n",
       "52  1952  1-4 Years       141.1\n",
       "53  1953  1-4 Years       130.0\n",
       "54  1954  1-4 Years       118.3\n",
       "55  1955  1-4 Years       113.4\n",
       "56  1956  1-4 Years       110.2\n",
       "57  1957  1-4 Years       111.8\n",
       "58  1958  1-4 Years       111.7\n",
       "59  1959  1-4 Years       106.9\n",
       "60  1960  1-4 Years       109.1\n",
       "61  1961  1-4 Years       101.7"
      ]
     },
     "execution_count": 4,
     "metadata": {},
     "output_type": "execute_result"
    }
   ],
   "source": [
    "#Display rows indexed 50 - 61\n",
    "df.iloc[50:62]"
   ]
  },
  {
   "cell_type": "code",
   "execution_count": 5,
   "metadata": {},
   "outputs": [
    {
     "data": {
      "text/html": [
       "<div>\n",
       "<style scoped>\n",
       "    .dataframe tbody tr th:only-of-type {\n",
       "        vertical-align: middle;\n",
       "    }\n",
       "\n",
       "    .dataframe tbody tr th {\n",
       "        vertical-align: top;\n",
       "    }\n",
       "\n",
       "    .dataframe thead th {\n",
       "        text-align: right;\n",
       "    }\n",
       "</style>\n",
       "<table border=\"1\" class=\"dataframe\">\n",
       "  <thead>\n",
       "    <tr style=\"text-align: right;\">\n",
       "      <th></th>\n",
       "      <th>Year</th>\n",
       "      <th>Age Group</th>\n",
       "      <th>Death Rate</th>\n",
       "    </tr>\n",
       "  </thead>\n",
       "  <tbody>\n",
       "  </tbody>\n",
       "</table>\n",
       "</div>"
      ],
      "text/plain": [
       "Empty DataFrame\n",
       "Columns: [Year, Age Group, Death Rate]\n",
       "Index: []"
      ]
     },
     "execution_count": 5,
     "metadata": {},
     "output_type": "execute_result"
    }
   ],
   "source": [
    "#Display column names\n",
    "df.head(0)"
   ]
  },
  {
   "cell_type": "code",
   "execution_count": 6,
   "metadata": {},
   "outputs": [
    {
     "name": "stdout",
     "output_type": "stream",
     "text": [
      "<class 'pandas.core.frame.DataFrame'>\n",
      "RangeIndex: 476 entries, 0 to 475\n",
      "Data columns (total 3 columns):\n",
      " #   Column      Non-Null Count  Dtype  \n",
      "---  ------      --------------  -----  \n",
      " 0   Year        476 non-null    int64  \n",
      " 1   Age Group   476 non-null    object \n",
      " 2   Death Rate  476 non-null    float64\n",
      "dtypes: float64(1), int64(1), object(1)\n",
      "memory usage: 11.3+ KB\n"
     ]
    }
   ],
   "source": [
    "#Display summary of the data frame object\n",
    "df.info()"
   ]
  },
  {
   "cell_type": "code",
   "execution_count": 7,
   "metadata": {},
   "outputs": [
    {
     "name": "stdout",
     "output_type": "stream",
     "text": [
      "0      1983.8\n",
      "1      1695.0\n",
      "2      1655.7\n",
      "3      1542.1\n",
      "4      1591.5\n",
      "        ...  \n",
      "471      45.5\n",
      "472      48.3\n",
      "473      51.2\n",
      "474      51.5\n",
      "475      49.2\n",
      "Name: Death Rate, Length: 476, dtype: float64\n"
     ]
    }
   ],
   "source": [
    "#Create and display series of Death Rate\n",
    "print(pd.Series(df.loc[:, \"Death Rate\"]))"
   ]
  },
  {
   "cell_type": "code",
   "execution_count": 8,
   "metadata": {},
   "outputs": [
    {
     "data": {
      "text/html": [
       "<div>\n",
       "<style scoped>\n",
       "    .dataframe tbody tr th:only-of-type {\n",
       "        vertical-align: middle;\n",
       "    }\n",
       "\n",
       "    .dataframe tbody tr th {\n",
       "        vertical-align: top;\n",
       "    }\n",
       "\n",
       "    .dataframe thead th {\n",
       "        text-align: right;\n",
       "    }\n",
       "</style>\n",
       "<table border=\"1\" class=\"dataframe\">\n",
       "  <thead>\n",
       "    <tr style=\"text-align: right;\">\n",
       "      <th></th>\n",
       "      <th>Year</th>\n",
       "      <th>Age Group</th>\n",
       "    </tr>\n",
       "  </thead>\n",
       "  <tbody>\n",
       "    <tr>\n",
       "      <th>0</th>\n",
       "      <td>1900</td>\n",
       "      <td>1-4 Years</td>\n",
       "    </tr>\n",
       "    <tr>\n",
       "      <th>1</th>\n",
       "      <td>1901</td>\n",
       "      <td>1-4 Years</td>\n",
       "    </tr>\n",
       "    <tr>\n",
       "      <th>2</th>\n",
       "      <td>1902</td>\n",
       "      <td>1-4 Years</td>\n",
       "    </tr>\n",
       "    <tr>\n",
       "      <th>3</th>\n",
       "      <td>1903</td>\n",
       "      <td>1-4 Years</td>\n",
       "    </tr>\n",
       "    <tr>\n",
       "      <th>4</th>\n",
       "      <td>1904</td>\n",
       "      <td>1-4 Years</td>\n",
       "    </tr>\n",
       "    <tr>\n",
       "      <th>5</th>\n",
       "      <td>1905</td>\n",
       "      <td>1-4 Years</td>\n",
       "    </tr>\n",
       "    <tr>\n",
       "      <th>6</th>\n",
       "      <td>1906</td>\n",
       "      <td>1-4 Years</td>\n",
       "    </tr>\n",
       "    <tr>\n",
       "      <th>7</th>\n",
       "      <td>1907</td>\n",
       "      <td>1-4 Years</td>\n",
       "    </tr>\n",
       "    <tr>\n",
       "      <th>8</th>\n",
       "      <td>1908</td>\n",
       "      <td>1-4 Years</td>\n",
       "    </tr>\n",
       "    <tr>\n",
       "      <th>9</th>\n",
       "      <td>1909</td>\n",
       "      <td>1-4 Years</td>\n",
       "    </tr>\n",
       "    <tr>\n",
       "      <th>10</th>\n",
       "      <td>1910</td>\n",
       "      <td>1-4 Years</td>\n",
       "    </tr>\n",
       "  </tbody>\n",
       "</table>\n",
       "</div>"
      ],
      "text/plain": [
       "    Year  Age Group\n",
       "0   1900  1-4 Years\n",
       "1   1901  1-4 Years\n",
       "2   1902  1-4 Years\n",
       "3   1903  1-4 Years\n",
       "4   1904  1-4 Years\n",
       "5   1905  1-4 Years\n",
       "6   1906  1-4 Years\n",
       "7   1907  1-4 Years\n",
       "8   1908  1-4 Years\n",
       "9   1909  1-4 Years\n",
       "10  1910  1-4 Years"
      ]
     },
     "execution_count": 8,
     "metadata": {},
     "output_type": "execute_result"
    }
   ],
   "source": [
    "#Display data from row 0-10 of the first two columns\n",
    "df.iloc[0:11, 0:2]"
   ]
  },
  {
   "cell_type": "code",
   "execution_count": 9,
   "metadata": {},
   "outputs": [
    {
     "name": "stdout",
     "output_type": "stream",
     "text": [
      "Average: 192.92415966386554\n",
      "Max: 1983.8\n",
      "Min: 11.4\n"
     ]
    }
   ],
   "source": [
    "#Display the average, max, and min of the Death Rate\n",
    "print(\"Average:\", df['Death Rate'].mean())\n",
    "print(\"Max:\", df['Death Rate'].max())\n",
    "print(\"Min:\", df['Death Rate'].min())"
   ]
  },
  {
   "cell_type": "code",
   "execution_count": null,
   "metadata": {},
   "outputs": [
    {
     "data": {
      "text/plain": [
       "Text(0, 0.5, 'Total Death Rate')"
      ]
     },
     "execution_count": 10,
     "metadata": {},
     "output_type": "execute_result"
    },
    {
     "data": {
      "image/png": "[encoded data removed]",
      "text/plain": [
       "<Figure size 640x480 with 1 Axes>"
      ]
     },
     "metadata": {},
     "output_type": "display_data"
    }
   ],
   "source": [
    "#Calculating and plotting total death rates by year\n",
    "df.groupby(\"Year\")['Death Rate'].sum().plot()\n",
    "plt.title(\"Total Death Rates by Year\")\n",
    "plt.xlabel(\"Year\")\n",
    "plt.ylabel(\"Total Death Rate\")"
   ]
  }
 ],
 "metadata": {
  "kernelspec": {
   "display_name": "myenv",
   "language": "python",
   "name": "python3"
  },
  "language_info": {
   "codemirror_mode": {
    "name": "ipython",
    "version": 3
   },
   "file_extension": ".py",
   "mimetype": "text/x-python",
   "name": "python",
   "nbconvert_exporter": "python",
   "pygments_lexer": "ipython3",
   "version": "3.9.21"
  }
 },
 "nbformat": 4,
 "nbformat_minor": 2
}
